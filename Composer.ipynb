{
 "cells": [
  {
   "cell_type": "code",
   "execution_count": 1,
   "id": "419ba25f-862d-4f02-aeec-b5564686ed0e",
   "metadata": {},
   "outputs": [],
   "source": [
    "from hw1 import Composer\n",
    "from midi2seq import process_midi_seq, seq2piano, random_piano, piano2seq, segment\n",
    "import torch\n",
    "from torch.utils.data import DataLoader, TensorDataset\n",
    "import torch.nn as nn\n",
    "import numpy as np"
   ]
  },
  {
   "cell_type": "code",
   "execution_count": 2,
   "id": "c3596228-8fb9-4014-a8e3-e906c3734a07",
   "metadata": {},
   "outputs": [
    {
     "name": "stdout",
     "output_type": "stream",
     "text": [
      "Using device: cpu\n"
     ]
    }
   ],
   "source": [
    "device = torch.device('cuda' if torch.cuda.is_available() else 'cpu')\n",
    "print('Using device:', device)"
   ]
  },
  {
   "cell_type": "code",
   "execution_count": 3,
   "id": "5bcdb79e-6f0c-4c4b-9a0c-8d54911a2dda",
   "metadata": {},
   "outputs": [
    {
     "data": {
      "text/plain": [
       "(13149, 51)"
      ]
     },
     "execution_count": 3,
     "metadata": {},
     "output_type": "execute_result"
    }
   ],
   "source": [
    "expert_seq = process_midi_seq(maxlen=50,n=12000)\n",
    "expert_seq.shape"
   ]
  },
  {
   "cell_type": "code",
   "execution_count": null,
   "id": "5e482ae4-a66d-4854-a517-2e9fd27a2c10",
   "metadata": {},
   "outputs": [],
   "source": []
  }
 ],
 "metadata": {
  "kernelspec": {
   "display_name": "Python 3 (ipykernel)",
   "language": "python",
   "name": "python3"
  },
  "language_info": {
   "codemirror_mode": {
    "name": "ipython",
    "version": 3
   },
   "file_extension": ".py",
   "mimetype": "text/x-python",
   "name": "python",
   "nbconvert_exporter": "python",
   "pygments_lexer": "ipython3",
   "version": "3.9.6"
  }
 },
 "nbformat": 4,
 "nbformat_minor": 5
}
