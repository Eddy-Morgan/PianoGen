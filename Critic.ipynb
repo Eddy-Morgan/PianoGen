{
 "cells": [
  {
   "cell_type": "code",
   "execution_count": 1,
   "id": "3f81a413-84fa-4a23-a569-02908d9ffa98",
   "metadata": {},
   "outputs": [],
   "source": [
    "from hw1 import Composer\n",
    "from midi2seq import process_midi_seq, seq2piano, random_piano, piano2seq, segment\n",
    "import torch\n",
    "from torch.utils.data import DataLoader, TensorDataset\n",
    "import torch.nn as nn\n",
    "import numpy as np"
   ]
  },
  {
   "cell_type": "code",
   "execution_count": 2,
   "id": "30a8f82d-4ca5-45fb-97d9-479f21ed9cb8",
   "metadata": {},
   "outputs": [
    {
     "name": "stdout",
     "output_type": "stream",
     "text": [
      "Using device: cpu\n"
     ]
    }
   ],
   "source": [
    "device = torch.device('cuda' if torch.cuda.is_available() else 'cpu')\n",
    "print('Using device:', device)"
   ]
  },
  {
   "cell_type": "code",
   "execution_count": 3,
   "id": "1704c496-c4f6-4a53-b92e-bdebb9cfd673",
   "metadata": {},
   "outputs": [
    {
     "data": {
      "text/plain": [
       "(13956, 51)"
      ]
     },
     "execution_count": 3,
     "metadata": {},
     "output_type": "execute_result"
    }
   ],
   "source": [
    "expert_seq = process_midi_seq(maxlen=50,n=12000)\n",
    "expert_seq.shape"
   ]
  },
  {
   "cell_type": "code",
   "execution_count": 4,
   "id": "bf73e94e-0862-48c5-9a7d-be7b32341c78",
   "metadata": {},
   "outputs": [
    {
     "data": {
      "text/plain": [
       "(13019, 51)"
      ]
     },
     "execution_count": 4,
     "metadata": {},
     "output_type": "execute_result"
    }
   ],
   "source": [
    "fake_midix = [random_piano() for i in range(1500)]\n",
    "fake_seq = process_midi_seq(all_midis=fake_midix,maxlen=50,n=13000)\n",
    "fake_seq.shape"
   ]
  },
  {
   "cell_type": "code",
   "execution_count": 5,
   "id": "75fb8e84-a1b3-4588-8929-974100859818",
   "metadata": {},
   "outputs": [],
   "source": [
    "# from sklearn.preprocessing import MinMaxScaler\n",
    "# scaler = MinMaxScaler(feature_range=(-1,1))\n",
    "# expert_seq = scaler.fit_transform(expert_seq)\n",
    "# fake_seq = scaler.fit_transform(fake_seq)\n",
    "# expert_seq.shape, fake_seq.shape"
   ]
  },
  {
   "cell_type": "code",
   "execution_count": 6,
   "id": "6fc96757-f855-454a-a136-1f08473e11b0",
   "metadata": {},
   "outputs": [
    {
     "data": {
      "text/plain": [
       "(array([[257., 355., 260., ...,  56., 287.,   1.],\n",
       "        [257., 256., 363., ..., 262., 370.,   1.],\n",
       "        [256., 184., 362., ..., 259., 256.,   1.],\n",
       "        ...,\n",
       "        [256., 358., 110., ...,  48., 294.,   0.],\n",
       "        [238., 258., 256., ..., 174., 280.,   0.],\n",
       "        [294., 256., 364., ..., 211., 265.,   0.]]),\n",
       " (26975, 52))"
      ]
     },
     "execution_count": 6,
     "metadata": {},
     "output_type": "execute_result"
    }
   ],
   "source": [
    "#piano_seq[:,51] = 1\n",
    "critic_data = np.zeros((expert_seq.shape[0] + fake_seq.shape[0], expert_seq.shape[1]+1))\n",
    "critic_data[:expert_seq.shape[0],expert_seq.shape[1]] = 1\n",
    "critic_data[:expert_seq.shape[0],:expert_seq.shape[1]] = expert_seq\n",
    "critic_data[expert_seq.shape[0]:,:expert_seq.shape[1]] = fake_seq\n",
    "critic_data, critic_data.shape"
   ]
  },
  {
   "cell_type": "code",
   "execution_count": 7,
   "id": "bff2b7a1-a022-4381-a494-42baac6a846f",
   "metadata": {},
   "outputs": [],
   "source": [
    "from sklearn.model_selection import train_test_split\n",
    "train_sequences, test_sequences = train_test_split(critic_data , test_size=0.2)"
   ]
  },
  {
   "cell_type": "code",
   "execution_count": 8,
   "id": "da3b48f7-cd89-4226-8b76-e343f38eca48",
   "metadata": {},
   "outputs": [
    {
     "data": {
      "text/plain": [
       "(10374, 11206)"
      ]
     },
     "execution_count": 8,
     "metadata": {},
     "output_type": "execute_result"
    }
   ],
   "source": [
    "train_sequences[:,51].tolist().count(0),  train_sequences[:,51].tolist().count(1)"
   ]
  },
  {
   "cell_type": "code",
   "execution_count": 9,
   "id": "12cc0de3-dd64-4a5f-b7e5-7ad3373ef3a7",
   "metadata": {},
   "outputs": [
    {
     "data": {
      "text/plain": [
       "(torch.Size([21580, 51, 1]),\n",
       " torch.Size([5395, 51, 1]),\n",
       " torch.Size([21580, 1]),\n",
       " torch.Size([5395, 1]))"
      ]
     },
     "execution_count": 9,
     "metadata": {},
     "output_type": "execute_result"
    }
   ],
   "source": [
    "X_train = train_sequences[:,:51]\n",
    "X_train = X_train.reshape((-1,51,1))\n",
    "\n",
    "Y_train = train_sequences[:,51]\n",
    "Y_train = Y_train.reshape((-1,1))\n",
    "\n",
    "X_test = test_sequences[:,:51]\n",
    "X_test = X_test.reshape((-1,51,1))\n",
    "\n",
    "Y_test = test_sequences[:,51]\n",
    "Y_test = Y_test.reshape((-1,1))\n",
    "\n",
    "\n",
    "\n",
    "X_train = torch.tensor(X_train).float()\n",
    "Y_train = torch.tensor(Y_train).float()\n",
    "\n",
    "X_test = torch.tensor(X_test).float()\n",
    "Y_test = torch.tensor(Y_test).float()\n",
    "\n",
    "X_train.shape, X_test.shape,  Y_train.shape, Y_test.shape"
   ]
  },
  {
   "cell_type": "code",
   "execution_count": 10,
   "id": "7daa4e11-1917-4067-b38e-99ed7ce0286f",
   "metadata": {},
   "outputs": [],
   "source": [
    "from torch.utils.data import Dataset\n",
    "class MidiCriticDataset(Dataset):\n",
    "    def __init__(self, X_sequence, Y_critic):\n",
    "        self.X_sequence = X_sequence\n",
    "        self.Y_critic = Y_critic\n",
    "\n",
    "    def __len__(self):\n",
    "        return len(self.Y_critic)\n",
    "        \n",
    "    def __getitem__(self, idx):\n",
    "        sequence, label =  self.X_sequence[idx] ,self.Y_critic[idx]\n",
    "        label = np.array([1.0,0.0]) if label else np.array([0.0,1.0])\n",
    "        return dict(\n",
    "            sequence = sequence,\n",
    "            label = label\n",
    "        )"
   ]
  },
  {
   "cell_type": "code",
   "execution_count": 11,
   "id": "d54fd5a2-03e3-4f12-b9a4-608aa6b1b1f3",
   "metadata": {},
   "outputs": [],
   "source": [
    "train_dataset = MidiCriticDataset(X_train,Y_train)\n",
    "test_dataset = MidiCriticDataset(X_test,Y_test)"
   ]
  },
  {
   "cell_type": "code",
   "execution_count": 12,
   "id": "639e1fa6-d17e-4645-8805-4595b2d44f81",
   "metadata": {},
   "outputs": [],
   "source": [
    "from torch.utils.data import DataLoader\n",
    "\n",
    "BATCH_SIZE = 100\n",
    "\n",
    "train_loader = DataLoader(train_dataset,batch_size = BATCH_SIZE, shuffle=True)\n",
    "test_loader = DataLoader(test_dataset,batch_size = BATCH_SIZE, shuffle=False)"
   ]
  },
  {
   "cell_type": "code",
   "execution_count": 13,
   "id": "196d81f7-ee0a-4004-ae93-c315b757376e",
   "metadata": {},
   "outputs": [
    {
     "name": "stdout",
     "output_type": "stream",
     "text": [
      "torch.Size([100, 51, 1]) torch.Size([100, 2])\n"
     ]
    }
   ],
   "source": [
    "for _, batch in enumerate(train_loader):\n",
    "    sequence_batch , label_batch = batch['sequence'].to(device) , batch['label'].to(device) \n",
    "    print(sequence_batch.shape, label_batch.shape)\n",
    "    break"
   ]
  },
  {
   "cell_type": "code",
   "execution_count": 14,
   "id": "e52af0a6-b2e7-4cb1-93f3-061eeb3758ca",
   "metadata": {},
   "outputs": [],
   "source": [
    "class SequenceModel(nn.Module):\n",
    "    def __init__(self, n_features, n_classes, n_hidden=256, n_layers=3):\n",
    "        super().__init__()\n",
    "        self.num_stacked_layers = n_layers\n",
    "        self.hidden_size = n_hidden\n",
    "        self.lstm = nn.LSTM(\n",
    "            input_size = n_features,\n",
    "            hidden_size = n_hidden,\n",
    "            num_layers = n_layers,\n",
    "            batch_first = True,\n",
    "            dropout = 0.75\n",
    "        )\n",
    "        self.fc = nn.Linear(n_hidden, n_classes)\n",
    "\n",
    "    def forward(self, x):\n",
    "        batch_size = x.size(0)\n",
    "        h0 = torch.zeros(self.num_stacked_layers, batch_size, self.hidden_size).to(device)\n",
    "        c0 = torch.zeros(self.num_stacked_layers, batch_size, self.hidden_size).to(device)\n",
    "        \n",
    "        out, _ = self.lstm(x, (h0, c0))\n",
    "        out = self.fc(out[:, -1, :])\n",
    "        return out"
   ]
  },
  {
   "cell_type": "code",
   "execution_count": 15,
   "id": "4474396a-7715-46d6-ba96-7869cd4f5a9d",
   "metadata": {},
   "outputs": [
    {
     "data": {
      "text/plain": [
       "SequenceModel(\n",
       "  (lstm): LSTM(1, 128, num_layers=3, batch_first=True, dropout=0.75)\n",
       "  (fc): Linear(in_features=128, out_features=2, bias=True)\n",
       ")"
      ]
     },
     "execution_count": 15,
     "metadata": {},
     "output_type": "execute_result"
    }
   ],
   "source": [
    "model = SequenceModel(1,2,128,3)\n",
    "model.to(device)"
   ]
  },
  {
   "cell_type": "code",
   "execution_count": 16,
   "id": "c78ad1d1-95d6-426b-bade-20f742e018bd",
   "metadata": {},
   "outputs": [],
   "source": [
    "learning_rate = 0.0001\n",
    "loss_function = nn.CrossEntropyLoss()\n",
    "optimizer = torch.optim.Adam(model.parameters(), lr=learning_rate)"
   ]
  },
  {
   "cell_type": "code",
   "execution_count": 17,
   "id": "4652b3c7-5cee-4746-af42-7f40e503761a",
   "metadata": {},
   "outputs": [],
   "source": [
    "def train_one_epoch():\n",
    "    model.train(True)\n",
    "    print(f'Epoch: {epoch + 1}')\n",
    "    running_loss = 0.0\n",
    "    \n",
    "    for batch_index, batch in enumerate(train_loader):\n",
    "        sequence_batch , label_batch = batch['sequence'].to(device) , batch['label'].to(device) \n",
    "        output = model(sequence_batch)\n",
    "        loss = loss_function(output, label_batch)\n",
    "        running_loss += loss.item()\n",
    "        \n",
    "        optimizer.zero_grad()\n",
    "        loss.backward()\n",
    "        optimizer.step()\n",
    "\n",
    "        if batch_index % 100 == 99:  # print every 100 batches\n",
    "            avg_loss_across_batches = running_loss / 100\n",
    "            print('Batch {0}, Loss: {1:.3f}'.format(batch_index+1,\n",
    "                                                    avg_loss_across_batches))\n",
    "            running_loss = 0.0\n",
    "    print()"
   ]
  },
  {
   "cell_type": "code",
   "execution_count": 18,
   "id": "6a2e2962-0e16-4a3f-8e3d-ca9fc91d2b75",
   "metadata": {},
   "outputs": [],
   "source": [
    "def validate_one_epoch():\n",
    "    model.train(False)\n",
    "    running_loss = 0.0\n",
    "    \n",
    "    for batch_index, batch in enumerate(test_loader):\n",
    "        sequence_batch , label_batch = batch['sequence'].to(device, dtype=torch.float) , batch['label'].to(device, dtype=torch.float) \n",
    "        \n",
    "        with torch.no_grad():\n",
    "            output = model(sequence_batch)\n",
    "            loss = loss_function(output, label_batch)\n",
    "            running_loss += loss.item()\n",
    "\n",
    "    avg_loss_across_batches = running_loss / len(test_loader)\n",
    "    \n",
    "    print('Val Loss: {0:.3f}'.format(avg_loss_across_batches))\n",
    "    print('***************************************************')\n",
    "    print()"
   ]
  },
  {
   "cell_type": "code",
   "execution_count": null,
   "id": "61e7d183-329d-4ab6-b85e-ec694a8e1690",
   "metadata": {},
   "outputs": [
    {
     "name": "stdout",
     "output_type": "stream",
     "text": [
      "Epoch: 1\n",
      "Batch 100, Loss: 0.685\n",
      "Batch 200, Loss: 0.337\n",
      "\n",
      "Val Loss: 0.470\n",
      "***************************************************\n",
      "\n",
      "Epoch: 2\n",
      "Batch 100, Loss: 0.137\n",
      "Batch 200, Loss: 0.112\n",
      "\n",
      "Val Loss: 0.225\n",
      "***************************************************\n",
      "\n",
      "Epoch: 3\n",
      "Batch 100, Loss: 0.088\n",
      "Batch 200, Loss: 0.081\n",
      "\n",
      "Val Loss: 0.556\n",
      "***************************************************\n",
      "\n",
      "Epoch: 4\n",
      "Batch 100, Loss: 0.084\n",
      "Batch 200, Loss: 0.069\n",
      "\n",
      "Val Loss: 0.106\n",
      "***************************************************\n",
      "\n",
      "Epoch: 5\n",
      "Batch 100, Loss: 0.070\n",
      "Batch 200, Loss: 0.064\n",
      "\n",
      "Val Loss: 0.241\n",
      "***************************************************\n",
      "\n",
      "Epoch: 6\n",
      "Batch 100, Loss: 0.058\n",
      "Batch 200, Loss: 0.066\n",
      "\n",
      "Val Loss: 0.399\n",
      "***************************************************\n",
      "\n",
      "Epoch: 7\n",
      "Batch 100, Loss: 0.054\n",
      "Batch 200, Loss: 0.056\n",
      "\n",
      "Val Loss: 0.097\n",
      "***************************************************\n",
      "\n",
      "Epoch: 8\n",
      "Batch 100, Loss: 0.053\n",
      "Batch 200, Loss: 0.051\n",
      "\n",
      "Val Loss: 0.078\n",
      "***************************************************\n",
      "\n",
      "Epoch: 9\n",
      "Batch 100, Loss: 0.052\n",
      "Batch 200, Loss: 0.051\n",
      "\n",
      "Val Loss: 0.288\n",
      "***************************************************\n",
      "\n",
      "Epoch: 10\n",
      "Batch 100, Loss: 0.050\n",
      "Batch 200, Loss: 0.047\n",
      "\n",
      "Val Loss: 0.106\n",
      "***************************************************\n",
      "\n",
      "Epoch: 11\n",
      "Batch 100, Loss: 0.049\n",
      "Batch 200, Loss: 0.042\n",
      "\n",
      "Val Loss: 0.068\n",
      "***************************************************\n",
      "\n",
      "Epoch: 12\n",
      "Batch 100, Loss: 0.049\n",
      "Batch 200, Loss: 0.046\n",
      "\n"
     ]
    }
   ],
   "source": [
    "num_epochs = 100\n",
    "for epoch in range(num_epochs):\n",
    "    train_one_epoch()\n",
    "    validate_one_epoch()"
   ]
  },
  {
   "cell_type": "code",
   "execution_count": 22,
   "id": "f821421a-8c06-4ac6-89f4-bf94394ff02c",
   "metadata": {},
   "outputs": [
    {
     "ename": "NameError",
     "evalue": "name 'model' is not defined",
     "output_type": "error",
     "traceback": [
      "\u001b[0;31m---------------------------------------------------------------------------\u001b[0m",
      "\u001b[0;31mNameError\u001b[0m                                 Traceback (most recent call last)",
      "Cell \u001b[0;32mIn[22], line 2\u001b[0m\n\u001b[1;32m      1\u001b[0m \u001b[38;5;28;01mwith\u001b[39;00m torch\u001b[38;5;241m.\u001b[39mno_grad():\n\u001b[0;32m----> 2\u001b[0m     output \u001b[38;5;241m=\u001b[39m \u001b[43mmodel\u001b[49m(X_test\u001b[38;5;241m.\u001b[39mto(device))\n\u001b[1;32m      3\u001b[0m     predicted \u001b[38;5;241m=\u001b[39m torch\u001b[38;5;241m.\u001b[39margmin(output, dim\u001b[38;5;241m=\u001b[39m\u001b[38;5;241m1\u001b[39m)\n",
      "\u001b[0;31mNameError\u001b[0m: name 'model' is not defined"
     ]
    }
   ],
   "source": [
    "with torch.no_grad():\n",
    "    output = model(X_test.to(device))\n",
    "    predicted = torch.argmax(output, dim=1)\n",
    "    predicted ^= 1"
   ]
  },
  {
   "cell_type": "code",
   "execution_count": 17,
   "id": "acd4ae87-f6e1-4c63-b666-ba1765b956ab",
   "metadata": {},
   "outputs": [
    {
     "ename": "NameError",
     "evalue": "name 'model' is not defined",
     "output_type": "error",
     "traceback": [
      "\u001b[0;31m---------------------------------------------------------------------------\u001b[0m",
      "\u001b[0;31mNameError\u001b[0m                                 Traceback (most recent call last)",
      "Cell \u001b[0;32mIn[17], line 1\u001b[0m\n\u001b[0;32m----> 1\u001b[0m torch\u001b[38;5;241m.\u001b[39msave(\u001b[43mmodel\u001b[49m, \u001b[38;5;124m'\u001b[39m\u001b[38;5;124mno_scaler_critic.pth\u001b[39m\u001b[38;5;124m'\u001b[39m)\n",
      "\u001b[0;31mNameError\u001b[0m: name 'model' is not defined"
     ]
    }
   ],
   "source": [
    "torch.save(model, 'no_scaler_critic.pth')"
   ]
  },
  {
   "cell_type": "code",
   "execution_count": 18,
   "id": "38efee50-ff87-4317-b76e-b21962e629c2",
   "metadata": {},
   "outputs": [
    {
     "data": {
      "text/plain": [
       "SequenceModel(\n",
       "  (lstm): LSTM(1, 128, num_layers=3, batch_first=True, dropout=0.75)\n",
       "  (fc): Linear(in_features=128, out_features=2, bias=True)\n",
       ")"
      ]
     },
     "execution_count": 18,
     "metadata": {},
     "output_type": "execute_result"
    }
   ],
   "source": [
    "# Model class must be defined somewhere\n",
    "model_loaded = torch.load('no_scaler_critic.pth')\n",
    "model_loaded.eval()"
   ]
  },
  {
   "cell_type": "code",
   "execution_count": 21,
   "id": "a8aa0b92-9c4e-4a4c-890b-cec19ac128f0",
   "metadata": {},
   "outputs": [
    {
     "ename": "NameError",
     "evalue": "name 'X_test' is not defined",
     "output_type": "error",
     "traceback": [
      "\u001b[0;31m---------------------------------------------------------------------------\u001b[0m",
      "\u001b[0;31mNameError\u001b[0m                                 Traceback (most recent call last)",
      "Cell \u001b[0;32mIn[21], line 2\u001b[0m\n\u001b[1;32m      1\u001b[0m \u001b[38;5;28;01mwith\u001b[39;00m torch\u001b[38;5;241m.\u001b[39mno_grad():\n\u001b[0;32m----> 2\u001b[0m     output \u001b[38;5;241m=\u001b[39m model_loaded(\u001b[43mX_test\u001b[49m\u001b[38;5;241m.\u001b[39mto(device))\n\u001b[1;32m      3\u001b[0m     predicted \u001b[38;5;241m=\u001b[39m torch\u001b[38;5;241m.\u001b[39margmin(output, dim\u001b[38;5;241m=\u001b[39m\u001b[38;5;241m1\u001b[39m)\n",
      "\u001b[0;31mNameError\u001b[0m: name 'X_test' is not defined"
     ]
    }
   ],
   "source": [
    "with torch.no_grad():\n",
    "    output = model_loaded(X_test.to(device))\n",
    "    predicted = torch.argmin(output, dim=1)"
   ]
  },
  {
   "cell_type": "code",
   "execution_count": null,
   "id": "96e0ff83-a4f7-4a10-9d77-8553f16194c7",
   "metadata": {},
   "outputs": [],
   "source": []
  }
 ],
 "metadata": {
  "kernelspec": {
   "display_name": "Python 3 (ipykernel)",
   "language": "python",
   "name": "python3"
  },
  "language_info": {
   "codemirror_mode": {
    "name": "ipython",
    "version": 3
   },
   "file_extension": ".py",
   "mimetype": "text/x-python",
   "name": "python",
   "nbconvert_exporter": "python",
   "pygments_lexer": "ipython3",
   "version": "3.9.6"
  }
 },
 "nbformat": 4,
 "nbformat_minor": 5
}
