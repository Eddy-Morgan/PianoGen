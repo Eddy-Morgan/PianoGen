{
 "cells": [
  {
   "cell_type": "code",
   "execution_count": 1,
   "id": "3f81a413-84fa-4a23-a569-02908d9ffa98",
   "metadata": {},
   "outputs": [],
   "source": [
    "from midi2seq import process_midi_seq, seq2piano, random_piano, piano2seq, segment\n",
    "import torch\n",
    "import os\n",
    "from torch.utils.data import DataLoader, TensorDataset\n",
    "from torch.utils.data import Dataset\n",
    "import torch.nn as nn\n",
    "import numpy as np\n",
    "from sklearn.model_selection import train_test_split\n",
    "from sklearn.preprocessing import MinMaxScaler\n",
    "import gdown"
   ]
  },
  {
   "cell_type": "code",
   "execution_count": 6,
   "id": "9f7968f0-9f07-48cf-a111-df78816ff3e2",
   "metadata": {},
   "outputs": [
    {
     "data": {
      "text/plain": [
       "(19.570385790780925, 7.2621674399379685)"
      ]
     },
     "execution_count": 6,
     "metadata": {},
     "output_type": "execute_result"
    }
   ],
   "source": [
    "np.sqrt(383), np.cbrt(383)"
   ]
  },
  {
   "cell_type": "code",
   "execution_count": 2,
   "id": "d3e86d14-243e-4535-9948-eda18c3e58ed",
   "metadata": {},
   "outputs": [
    {
     "data": {
      "text/plain": [
       "device(type='mps', index=0)"
      ]
     },
     "execution_count": 2,
     "metadata": {},
     "output_type": "execute_result"
    }
   ],
   "source": [
    "device = torch.device('cuda:0' if torch.cuda.is_available() else 'mps:0' if torch.backends.mps.is_available() else 'cpu')\n",
    "device"
   ]
  },
  {
   "cell_type": "code",
   "execution_count": 3,
   "id": "1704c496-c4f6-4a53-b92e-bdebb9cfd673",
   "metadata": {},
   "outputs": [
    {
     "ename": "TypeError",
     "evalue": "process_midi_seq() got an unexpected keyword argument 'shuffle_seed'",
     "output_type": "error",
     "traceback": [
      "\u001b[0;31m---------------------------------------------------------------------------\u001b[0m",
      "\u001b[0;31mTypeError\u001b[0m                                 Traceback (most recent call last)",
      "Cell \u001b[0;32mIn[3], line 2\u001b[0m\n\u001b[1;32m      1\u001b[0m seed \u001b[38;5;241m=\u001b[39m \u001b[38;5;241m10\u001b[39m\n\u001b[0;32m----> 2\u001b[0m expert_seq \u001b[38;5;241m=\u001b[39m \u001b[43mprocess_midi_seq\u001b[49m\u001b[43m(\u001b[49m\u001b[43mmaxlen\u001b[49m\u001b[38;5;241;43m=\u001b[39;49m\u001b[38;5;241;43m50\u001b[39;49m\u001b[43m,\u001b[49m\u001b[43mn\u001b[49m\u001b[38;5;241;43m=\u001b[39;49m\u001b[38;5;241;43m15000\u001b[39;49m\u001b[43m,\u001b[49m\u001b[43m \u001b[49m\u001b[43mshuffle_seed\u001b[49m\u001b[38;5;241;43m=\u001b[39;49m\u001b[43mseed\u001b[49m\u001b[43m)\u001b[49m\n\u001b[1;32m      3\u001b[0m expert_seq\u001b[38;5;241m.\u001b[39mshape\n",
      "\u001b[0;31mTypeError\u001b[0m: process_midi_seq() got an unexpected keyword argument 'shuffle_seed'"
     ]
    }
   ],
   "source": [
    "seed = 10\n",
    "expert_seq = process_midi_seq(maxlen=50,n=15000, shuffle_seed=seed)\n",
    "expert_seq.shape"
   ]
  },
  {
   "cell_type": "code",
   "execution_count": null,
   "id": "bf73e94e-0862-48c5-9a7d-be7b32341c78",
   "metadata": {},
   "outputs": [],
   "source": [
    "fake_midix = [random_piano(seed) for i in range(20000)]\n",
    "fake_seq = process_midi_seq(all_midis=fake_midix,maxlen=50,n=15000)\n",
    "fake_seq.shape"
   ]
  },
  {
   "cell_type": "code",
   "execution_count": null,
   "id": "6fc96757-f855-454a-a136-1f08473e11b0",
   "metadata": {},
   "outputs": [],
   "source": [
    "critic_data = np.zeros((expert_seq.shape[0] + fake_seq.shape[0], expert_seq.shape[1]+1))\n",
    "\n",
    "critic_data[:expert_seq.shape[0],:expert_seq.shape[1]] = expert_seq\n",
    "critic_data[expert_seq.shape[0]:,:expert_seq.shape[1]] = fake_seq\n",
    "\n",
    "critic_data[:expert_seq.shape[0],expert_seq.shape[1]] = 1\n",
    "\n",
    "critic_data, critic_data.shape"
   ]
  },
  {
   "cell_type": "code",
   "execution_count": null,
   "id": "bff2b7a1-a022-4381-a494-42baac6a846f",
   "metadata": {},
   "outputs": [],
   "source": [
    "train_sequences, test_sequences = train_test_split(critic_data , test_size=0.2)"
   ]
  },
  {
   "cell_type": "code",
   "execution_count": 65,
   "id": "da3b48f7-cd89-4226-8b76-e343f38eca48",
   "metadata": {},
   "outputs": [
    {
     "data": {
      "text/plain": [
       "(12084, 14061)"
      ]
     },
     "execution_count": 65,
     "metadata": {},
     "output_type": "execute_result"
    }
   ],
   "source": [
    "train_sequences[:,51].tolist().count(0),  train_sequences[:,51].tolist().count(1)"
   ]
  },
  {
   "cell_type": "code",
   "execution_count": 71,
   "id": "12cc0de3-dd64-4a5f-b7e5-7ad3373ef3a7",
   "metadata": {},
   "outputs": [
    {
     "data": {
      "text/plain": [
       "(torch.Size([26145, 51, 1]),\n",
       " torch.Size([6537, 51, 1]),\n",
       " torch.Size([26145, 1]),\n",
       " torch.Size([6537, 1]))"
      ]
     },
     "execution_count": 71,
     "metadata": {},
     "output_type": "execute_result"
    }
   ],
   "source": [
    "X_train = train_sequences[:,:51]\n",
    "X_train = X_train.reshape((-1,51,1))\n",
    "\n",
    "Y_train = train_sequences[:,51]\n",
    "Y_train = Y_train.reshape((-1,1))\n",
    "\n",
    "X_test = test_sequences[:,:51]\n",
    "X_test = X_test.reshape((-1,51,1))\n",
    "\n",
    "Y_test = test_sequences[:,51]\n",
    "Y_test = Y_test.reshape((-1,1))\n",
    "\n",
    "X_train = torch.tensor(X_train).float().to(device) \n",
    "Y_train = torch.tensor(Y_train).float().to(device) \n",
    "\n",
    "X_test = torch.tensor(X_test).float().to(device) \n",
    "Y_test = torch.tensor(Y_test).float().to(device) \n",
    "\n",
    "X_train.shape, X_test.shape,  Y_train.shape, Y_test.shape"
   ]
  },
  {
   "cell_type": "code",
   "execution_count": 31,
   "id": "7daa4e11-1917-4067-b38e-99ed7ce0286f",
   "metadata": {},
   "outputs": [],
   "source": [
    "class MidiCriticDataset(Dataset):\n",
    "    def __init__(self, X_sequence, Y_critic):\n",
    "        self.X_sequence = X_sequence\n",
    "        self.Y_critic = Y_critic\n",
    "\n",
    "    def __len__(self):\n",
    "        return len(self.Y_critic)\n",
    "        \n",
    "    def __getitem__(self, idx):\n",
    "        sequence, label =  self.X_sequence[idx] ,self.Y_critic[idx]\n",
    "        label = torch.tensor([1, 0]).float() if label else torch.tensor([0, 1]).float()\n",
    "        return dict(\n",
    "            sequence = sequence,\n",
    "            label = label\n",
    "        )"
   ]
  },
  {
   "cell_type": "code",
   "execution_count": 32,
   "id": "d54fd5a2-03e3-4f12-b9a4-608aa6b1b1f3",
   "metadata": {},
   "outputs": [],
   "source": [
    "train_dataset = MidiCriticDataset(X_train,Y_train)\n",
    "test_dataset = MidiCriticDataset(X_test,Y_test)"
   ]
  },
  {
   "cell_type": "code",
   "execution_count": 33,
   "id": "639e1fa6-d17e-4645-8805-4595b2d44f81",
   "metadata": {},
   "outputs": [],
   "source": [
    "BATCH_SIZE = 100\n",
    "\n",
    "train_loader = DataLoader(train_dataset,batch_size = BATCH_SIZE, shuffle=True)\n",
    "test_loader = DataLoader(test_dataset,batch_size = BATCH_SIZE, shuffle=False)"
   ]
  },
  {
   "cell_type": "code",
   "execution_count": 34,
   "id": "196d81f7-ee0a-4004-ae93-c315b757376e",
   "metadata": {},
   "outputs": [
    {
     "name": "stdout",
     "output_type": "stream",
     "text": [
      "torch.Size([100, 51, 1]) torch.Size([100, 2])\n"
     ]
    }
   ],
   "source": [
    "for _, batch in enumerate(train_loader):\n",
    "    sequence_batch , label_batch = batch['sequence'].to(device) , batch['label'].to(device) \n",
    "    print(sequence_batch.shape, label_batch.shape)\n",
    "    break"
   ]
  },
  {
   "cell_type": "code",
   "execution_count": 47,
   "id": "e52af0a6-b2e7-4cb1-93f3-061eeb3758ca",
   "metadata": {},
   "outputs": [],
   "source": [
    "class CriticModel(nn.Module):\n",
    "    def __init__(self, n_classes, n_input=1, n_hidden=256, n_layers=3):\n",
    "        super().__init__()\n",
    "        self.num_stacked_layers = n_layers\n",
    "        self.hidden_size = n_hidden\n",
    "        \n",
    "        self.lstm = nn.LSTM(input_size=n_input, hidden_size=n_hidden, num_layers=n_layers, batch_first=True, dropout=0.7)\n",
    "        # Output layer\n",
    "        self.fc = nn.Linear(n_hidden, n_classes)\n",
    "\n",
    "    def forward(self, x):\n",
    "        batch_size = x.size(0)\n",
    "        h0 = torch.zeros(self.num_stacked_layers, batch_size, self.hidden_size).to(device)\n",
    "        c0 = torch.zeros(self.num_stacked_layers, batch_size, self.hidden_size).to(device)\n",
    "        \n",
    "        lstm_out, _ = self.lstm(x, (h0, c0))\n",
    "        out = lstm_out[:, -1, :]\n",
    "        out = self.fc(out)\n",
    "        return out"
   ]
  },
  {
   "cell_type": "code",
   "execution_count": 48,
   "id": "4474396a-7715-46d6-ba96-7869cd4f5a9d",
   "metadata": {},
   "outputs": [
    {
     "data": {
      "text/plain": [
       "CriticModel(\n",
       "  (lstm): LSTM(1, 64, num_layers=3, batch_first=True, dropout=0.7)\n",
       "  (fc): Linear(in_features=64, out_features=2, bias=True)\n",
       ")"
      ]
     },
     "execution_count": 48,
     "metadata": {},
     "output_type": "execute_result"
    }
   ],
   "source": [
    "model = CriticModel(2,1,64,3)\n",
    "model.to(device)"
   ]
  },
  {
   "cell_type": "code",
   "execution_count": 37,
   "id": "c78ad1d1-95d6-426b-bade-20f742e018bd",
   "metadata": {},
   "outputs": [],
   "source": [
    "learning_rate = 0.0001\n",
    "loss_function = nn.CrossEntropyLoss()\n",
    "optimizer = torch.optim.Adam(model.parameters(), lr=learning_rate)"
   ]
  },
  {
   "cell_type": "code",
   "execution_count": 38,
   "id": "4652b3c7-5cee-4746-af42-7f40e503761a",
   "metadata": {},
   "outputs": [],
   "source": [
    "def train_one_epoch():\n",
    "    model.train(True)\n",
    "    print(f'Epoch: {epoch + 1}')\n",
    "    running_loss = 0.0\n",
    "    \n",
    "    for batch_index, batch in enumerate(train_loader):\n",
    "        sequence_batch , label_batch = batch['sequence'].to(device) , batch['label'].to(device) \n",
    "        output = model(sequence_batch)\n",
    "        loss = loss_function(output, label_batch)\n",
    "        running_loss += loss.item()\n",
    "        \n",
    "        optimizer.zero_grad()\n",
    "        loss.backward()\n",
    "        optimizer.step()\n",
    "\n",
    "        if batch_index % 100 == 99:  # print every 100 batches\n",
    "            avg_loss_across_batches = running_loss / 100\n",
    "            print('Batch {0}, Loss: {1:.3f}'.format(batch_index+1,\n",
    "                                                    avg_loss_across_batches))\n",
    "            running_loss = 0.0\n",
    "    print()"
   ]
  },
  {
   "cell_type": "code",
   "execution_count": 39,
   "id": "6a2e2962-0e16-4a3f-8e3d-ca9fc91d2b75",
   "metadata": {},
   "outputs": [],
   "source": [
    "def validate_one_epoch():\n",
    "    model.train(False)\n",
    "    running_loss = 0.0\n",
    "    \n",
    "    for batch_index, batch in enumerate(test_loader):\n",
    "        sequence_batch , label_batch = batch['sequence'].to(device) , batch['label'].to(device) \n",
    "        \n",
    "        with torch.no_grad():\n",
    "            output = model(sequence_batch)\n",
    "            loss = loss_function(output, label_batch)\n",
    "            running_loss += loss.item()\n",
    "\n",
    "    avg_loss_across_batches = running_loss / len(test_loader)\n",
    "    \n",
    "    print('Val Loss: {0:.3f}'.format(avg_loss_across_batches))\n",
    "    print('***************************************************')\n",
    "    print()"
   ]
  },
  {
   "cell_type": "code",
   "execution_count": 56,
   "id": "61e7d183-329d-4ab6-b85e-ec694a8e1690",
   "metadata": {},
   "outputs": [
    {
     "name": "stderr",
     "output_type": "stream",
     "text": [
      "DEBUG:Starting new HTTPS connection (1): drive.google.com:443\n",
      "DEBUG:https://drive.google.com:443 \"GET /uc?id=1Yla0ZkFQtPNZww8mdcPKDWNn7UfCDVJq HTTP/1.1\" 303 0\n",
      "DEBUG:Starting new HTTPS connection (1): doc-0o-8c-docs.googleusercontent.com:443\n",
      "DEBUG:https://doc-0o-8c-docs.googleusercontent.com:443 \"GET /docs/securesc/ha0ro937gcuc7l7deffksulhg5h7mbp1/m2m9bqus6p29t90alnptp7iegj2ffhgp/1696884975000/02584426154643755225/*/1Yla0ZkFQtPNZww8mdcPKDWNn7UfCDVJq?uuid=118dfca9-0a56-4bb9-b393-a5c9af125b2e HTTP/1.1\" 200 340890\n",
      "Downloading...\n",
      "From: https://drive.google.com/uc?id=1Yla0ZkFQtPNZww8mdcPKDWNn7UfCDVJq\n",
      "To: /Users/edwardmorgan/Documents/dev/deeplearning/PianoGen/critic.pth\n",
      "100%|█████████████████████████████████████████████████████████████████████████████████████████████████████████████████████████████████████████████████████| 341k/341k [00:00<00:00, 3.44MB/s]\n"
     ]
    },
    {
     "data": {
      "text/plain": [
       "<All keys matched successfully>"
      ]
     },
     "execution_count": 56,
     "metadata": {},
     "output_type": "execute_result"
    }
   ],
   "source": [
    "train = False\n",
    "\n",
    "if train:\n",
    "    num_epochs = 100\n",
    "    for epoch in range(num_epochs):\n",
    "        train_one_epoch()\n",
    "        validate_one_epoch()\n",
    "    torch.save(model, 'critic.pth')\n",
    "else:\n",
    "    url = 'https://drive.google.com/uc?id=1Yla0ZkFQtPNZww8mdcPKDWNn7UfCDVJq'\n",
    "    output = 'critic.pth'\n",
    "    gdown.download(url, output, quiet=False)\n",
    "    \n",
    "# Model class must be defined somewhere\n",
    "# model.load_state_dict(torch.load('critic.pth'))\n",
    "# model.eval()\n",
    "\n",
    "state_dict = torch.load('critic.pth').state_dict()\n",
    "model.load_state_dict(state_dict)"
   ]
  },
  {
   "cell_type": "code",
   "execution_count": 57,
   "id": "f821421a-8c06-4ac6-89f4-bf94394ff02c",
   "metadata": {},
   "outputs": [],
   "source": [
    "with torch.no_grad():\n",
    "    output = model(X_test.to(device))\n",
    "    predicted_index = torch.argmax(output, dim=1)\n",
    "    predicted_index ^= 1 # index 0 is good and index 1 is bad "
   ]
  },
  {
   "cell_type": "code",
   "execution_count": 58,
   "id": "ef3df993-8b7f-4b8c-96b2-bbc02e5b20a4",
   "metadata": {},
   "outputs": [
    {
     "data": {
      "text/plain": [
       "0.9888379204892966"
      ]
     },
     "execution_count": 58,
     "metadata": {},
     "output_type": "execute_result"
    }
   ],
   "source": [
    "arr = (predicted_index == torch.flatten(Y_test)).to('cpu').numpy() #copy to cpu before convert to numpy\n",
    "final_test_acc = sum(arr)/len(arr)\n",
    "final_test_acc"
   ]
  },
  {
   "cell_type": "code",
   "execution_count": 78,
   "id": "82b4f692-730e-474b-aa31-527812f6d347",
   "metadata": {},
   "outputs": [
    {
     "data": {
      "text/plain": [
       "tensor([0., 0., 1.,  ..., 1., 0., 0.], device='mps:0')"
      ]
     },
     "execution_count": 78,
     "metadata": {},
     "output_type": "execute_result"
    }
   ],
   "source": [
    "torch.flatten(Y_test)"
   ]
  },
  {
   "cell_type": "code",
   "execution_count": 9,
   "id": "7a679caf-510e-4dcc-9455-82b806ec8617",
   "metadata": {},
   "outputs": [
    {
     "data": {
      "text/plain": [
       "382"
      ]
     },
     "execution_count": 9,
     "metadata": {},
     "output_type": "execute_result"
    }
   ],
   "source": [
    "from math import ceil\n",
    "velo_inc = 5\n",
    "dim = 128*2 + 100 + int(ceil(126/velo_inc))\n",
    "dim"
   ]
  },
  {
   "cell_type": "code",
   "execution_count": 15,
   "id": "b8c9dc22-0601-400c-8f45-53084e8f6f7c",
   "metadata": {},
   "outputs": [],
   "source": [
    "assert np.max([0,34,21,381]) < dim"
   ]
  },
  {
   "cell_type": "code",
   "execution_count": 18,
   "id": "1a3e7d76-c018-4e7c-b79c-7d94ea15a98b",
   "metadata": {},
   "outputs": [
    {
     "data": {
      "text/plain": [
       "382"
      ]
     },
     "execution_count": 18,
     "metadata": {},
     "output_type": "execute_result"
    }
   ],
   "source": [
    "len(list(range(dim)))"
   ]
  },
  {
   "cell_type": "code",
   "execution_count": null,
   "id": "ada45020-ffad-4f00-9ee1-3a834f7572f7",
   "metadata": {},
   "outputs": [],
   "source": []
  },
  {
   "cell_type": "code",
   "execution_count": 29,
   "id": "76fca60f-de19-4683-8b0a-1627f82f256c",
   "metadata": {},
   "outputs": [
    {
     "data": {
      "text/plain": [
       "313"
      ]
     },
     "execution_count": 29,
     "metadata": {},
     "output_type": "execute_result"
    }
   ],
   "source": [
    "np.random.randint(0,dim)"
   ]
  },
  {
   "cell_type": "code",
   "execution_count": null,
   "id": "364a29d4-a9d8-42b8-823d-1f4b4b3c87fd",
   "metadata": {},
   "outputs": [],
   "source": []
  }
 ],
 "metadata": {
  "kernelspec": {
   "display_name": "Python 3 (ipykernel)",
   "language": "python",
   "name": "python3"
  },
  "language_info": {
   "codemirror_mode": {
    "name": "ipython",
    "version": 3
   },
   "file_extension": ".py",
   "mimetype": "text/x-python",
   "name": "python",
   "nbconvert_exporter": "python",
   "pygments_lexer": "ipython3",
   "version": "3.9.6"
  }
 },
 "nbformat": 4,
 "nbformat_minor": 5
}
